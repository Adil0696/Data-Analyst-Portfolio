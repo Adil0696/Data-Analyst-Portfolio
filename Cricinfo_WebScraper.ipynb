{
 "cells": [
  {
   "cell_type": "markdown",
   "id": "28457496",
   "metadata": {},
   "source": [
    "# Web Scraper"
   ]
  },
  {
   "cell_type": "code",
   "execution_count": 1,
   "id": "c696c742",
   "metadata": {},
   "outputs": [],
   "source": [
    "#import libraries\n",
    "\n",
    "from bs4 import BeautifulSoup\n",
    "import requests\n",
    "import time\n",
    "import datetime\n",
    "\n",
    "import smtplib"
   ]
  },
  {
   "cell_type": "code",
   "execution_count": 2,
   "id": "11e9f822",
   "metadata": {},
   "outputs": [],
   "source": [
    "#Connecting to Website\n",
    "\n",
    "URL = 'https://www.espncricinfo.com/records/list-of-series-results-335432'\n",
    "\n",
    "headers = {\"User-Agent\": \"Mozilla/5.0 (Windows NT 10.0; Win64; x64) AppleWebKit/537.36 (KHTML, like Gecko) Chrome/114.0.0.0 Safari/537.36\", \"Accept-Encoding\":\"gzip, deflate\", \"Accept\":\"text/html,application/xhtml+xml,application/xml;q=0.9,*/*;q=0.8\", \"DNT\":\"1\",\"Connection\":\"close\", \"Upgrade-Insecure-Requests\":\"1\"}\n",
    "\n",
    "page= requests.get(URL,headers)\n",
    "\n",
    "soup1= BeautifulSoup(page.content, \"html.parser\")\n",
    "\n",
    "#Adding the following line will help structure the data\n",
    "\n",
    "soup2= BeautifulSoup(soup1.prettify(), \"html.parser\")"
   ]
  },
  {
   "cell_type": "code",
   "execution_count": 11,
   "id": "d12b5b40",
   "metadata": {},
   "outputs": [],
   "source": [
    "#Encapsulating the Entire Scraping, Reading and Writing Process in One Single function\n",
    "\n",
    "def update_seriesdata():\n",
    "    #Connect to Website\n",
    "\n",
    "    URL = 'https://www.espncricinfo.com/records/list-of-series-results-335432'\n",
    "\n",
    "    headers = {\"User-Agent\": \"Mozilla/5.0 (Windows NT 10.0; Win64; x64) AppleWebKit/537.36 (KHTML, like Gecko) Chrome/114.0.0.0 Safari/537.36\", \"Accept-Encoding\":\"gzip, deflate\", \"Accept\":\"text/html,application/xhtml+xml,application/xml;q=0.9,*/*;q=0.8\", \"DNT\":\"1\",\"Connection\":\"close\", \"Upgrade-Insecure-Requests\":\"1\"}\n",
    "\n",
    "    page= requests.get(URL,headers)\n",
    "    \n",
    "    soup1= BeautifulSoup(page.content, \"html.parser\")\n",
    "    soup2= BeautifulSoup(soup1.prettify(), \"html.parser\")\n",
    "    \n",
    "    import csv\n",
    "\n",
    "# Open the CSV file in write mode\n",
    "with open ('ODISeriesResults.csv','w',newline='',encoding='UTF-8') as f:\n",
    "    writer = csv.writer(f)\n",
    "    \n",
    "    # Write the header row to the specific column\n",
    "    writer.writerow(header)\n",
    "    \n",
    "    # Loop to write the data rows\n",
    "    seriesname= 2\n",
    "    seasonnum= 3\n",
    "    winnum = 4\n",
    "    marginnum = 5\n",
    "    while True:\n",
    "        try:\n",
    "            series_element = soup2.find(name=\"span\", class_=\"ds-text-tight-s ds-font-regular ds-text-typo-primary hover:ds-text-typo-primary-hover ds-block\")\n",
    "            series_name = series_element.get_text().strip()\n",
    "            sea = soup2.find_all('td', class_='ds-min-w-max ds-text-right')[seasonnum]\n",
    "            win = soup2.find_all('td', class_='ds-min-w-max ds-text-right')[winnum]\n",
    "            mar = soup2.find_all('td', class_='ds-min-w-max ds-text-right')[marginnum]\n",
    "            row = [series_name, sea.text.strip(), win.text.strip(),mar.text.strip()]  # Create a list with values for each column\n",
    "            writer.writerow(row)\n",
    "            winnum += 3\n",
    "            seasonnum += 3\n",
    "            marginnum += 3\n",
    "        except IndexError:\n",
    "            break"
   ]
  },
  {
   "cell_type": "code",
   "execution_count": null,
   "id": "de7865c8",
   "metadata": {},
   "outputs": [],
   "source": []
  },
  {
   "cell_type": "code",
   "execution_count": null,
   "id": "a049bc00",
   "metadata": {},
   "outputs": [],
   "source": []
  },
  {
   "cell_type": "code",
   "execution_count": null,
   "id": "c36161e4",
   "metadata": {},
   "outputs": [],
   "source": []
  },
  {
   "cell_type": "code",
   "execution_count": null,
   "id": "17d4f922",
   "metadata": {},
   "outputs": [],
   "source": []
  },
  {
   "cell_type": "code",
   "execution_count": null,
   "id": "70cd2287",
   "metadata": {},
   "outputs": [],
   "source": []
  }
 ],
 "metadata": {
  "kernelspec": {
   "display_name": "Python 3 (ipykernel)",
   "language": "python",
   "name": "python3"
  },
  "language_info": {
   "codemirror_mode": {
    "name": "ipython",
    "version": 3
   },
   "file_extension": ".py",
   "mimetype": "text/x-python",
   "name": "python",
   "nbconvert_exporter": "python",
   "pygments_lexer": "ipython3",
   "version": "3.10.9"
  }
 },
 "nbformat": 4,
 "nbformat_minor": 5
}
